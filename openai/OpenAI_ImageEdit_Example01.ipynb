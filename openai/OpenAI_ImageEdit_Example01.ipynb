{
 "cells": [
  {
   "cell_type": "markdown",
   "metadata": {},
   "source": [
    "<a href=\"https://colab.research.google.com/github/catnipglitch/google-colab-notebooks-catnip/blob/main/openai/OpenAI_ImageEdit_Example01.ipynb\" target=\"_parent\"><img src=\"https://colab.research.google.com/assets/colab-badge.svg\" alt=\"Open In Colab\"/></a>"
   ]
  },
  {
   "cell_type": "markdown",
   "metadata": {
    "id": "tlJSY-IGABXd"
   },
   "source": [
    "# OpenAI Image Edit API を使用した画像編集ツール\n",
    "\n",
    "このノートブックは、OpenAIのImage Edit APIを使用して画像を編集するためのインタラクティブなツールを提供します。\n",
    "\n",
    "## 機能\n",
    "\n",
    "* **画像のアップロード:** オリジナル画像とマスク画像（オプション）をアップロードできます。\n",
    "* **プロンプト入力:** 画像編集のためのプロンプトを入力できます。\n",
    "* **画像サイズ、品質、背景の選択:** 生成される画像のサイズ、品質、背景を指定できます。\n",
    "* **画像編集と保存:** アップロードした画像とプロンプトに基づいて画像を編集し、Google Driveに保存できます。\n",
    "* **APIレスポンスの保存:** APIからのレスポンスはJSONファイルとしてGoogle Driveに保存されます。\n",
    "\n",
    "## 使用方法\n",
    "\n",
    "1. OpenAI APIキーを `userdata` に設定します。\n",
    "2. オリジナル画像とマスク画像（オプション）をアップロードします。\n",
    "3. 画像編集のためのプロンプトを入力します。\n",
    "4. 画像サイズ、品質、背景を選択します。\n",
    "5. \"画像を編集して保存\" ボタンをクリックして、画像を編集し、Google Driveに保存します。\n",
    "\n",
    "## 注意\n",
    "\n",
    "* このノートブックは、OpenAIのImage Edit APIを使用するために、`openai` ライブラリがインストールされている必要があります。\n",
    "* Google Driveにアクセスするために、Google Colabの認証が必要です。"
   ]
  },
  {
   "cell_type": "code",
   "execution_count": 38,
   "metadata": {
    "cellView": "form",
    "executionInfo": {
     "elapsed": 4368,
     "status": "ok",
     "timestamp": 1748085085699,
     "user": {
      "displayName": "Catnip G",
      "userId": "16819919414081076636"
     },
     "user_tz": -540
    },
    "id": "iDGckqVCBgBU"
   },
   "outputs": [],
   "source": [
    "# @title 初期化 {\"run\":\"auto\",\"vertical-output\":true}\n",
    "#@markdown\n",
    "%%capture\n",
    "\n",
    "#!pip install Pillow\n",
    "!pip install openai\n",
    "\n",
    "\n",
    "from IPython.display import Image as IPyImage, display\n",
    "from google.colab import files, userdata, drive\n",
    "#from PIL import Image as PILImage\n",
    "\n",
    "import io\n",
    "import os\n",
    "import base64\n",
    "import json\n",
    "import datetime\n",
    "from pathlib import Path\n",
    "from openai import OpenAI\n",
    "import tempfile\n",
    "#import ipywidgets as widgets\n",
    "\n",
    "\n",
    "\n",
    "# 一時ディレクトリを作成\n",
    "temp_dir = tempfile.mkdtemp()\n",
    "\n",
    "\n"
   ]
  },
  {
   "cell_type": "code",
   "execution_count": 39,
   "metadata": {
    "cellView": "form",
    "colab": {
     "base_uri": "https://localhost:8080/"
    },
    "executionInfo": {
     "elapsed": 1143,
     "status": "ok",
     "timestamp": 1748085089193,
     "user": {
      "displayName": "Catnip G",
      "userId": "16819919414081076636"
     },
     "user_tz": -540
    },
    "id": "ZpB_raTRJGtB",
    "outputId": "f5c211d6-1de7-4b7f-8dd7-3f1604f89a4a"
   },
   "outputs": [
    {
     "name": "stdout",
     "output_type": "stream",
     "text": [
      "OpenAIクライアントの初期化に成功しました。\n"
     ]
    }
   ],
   "source": [
    "#@title ### OpenAI API接続の準備をするのだ\n",
    "\n",
    "api_key = userdata.get('OPENAI_API_KEY')\n",
    "\n",
    "if not api_key:\n",
    "    print(\"エラー: OpenAI APIキーが設定されていません。Colabのシークレットに 'OPENAI_API_KEY' を設定してください。\")\n",
    "else:\n",
    "    try:\n",
    "        client = OpenAI(api_key=api_key)\n",
    "        print(\"OpenAIクライアントの初期化に成功しました。\")\n",
    "    except Exception as e:\n",
    "        print(f\"エラー: OpenAIクライアントの初期化に失敗しました。APIキーを確認してください: {e}\")\n",
    "        client = None # 初期化失敗時はNoneを設定"
   ]
  },
  {
   "cell_type": "code",
   "execution_count": 40,
   "metadata": {
    "colab": {
     "base_uri": "https://localhost:8080/"
    },
    "executionInfo": {
     "elapsed": 4861,
     "status": "ok",
     "timestamp": 1748085096184,
     "user": {
      "displayName": "Catnip G",
      "userId": "16819919414081076636"
     },
     "user_tz": -540
    },
    "id": "EQLX4ZNqHTIE",
    "outputId": "c865cfe8-0ce0-4934-aabb-50e8796e6cf0"
   },
   "outputs": [
    {
     "name": "stdout",
     "output_type": "stream",
     "text": [
      "Google Drive を利用します\n",
      "Mounted at /content/drive\n",
      "マウント処理終了\n"
     ]
    }
   ],
   "source": [
    "# @title ###  Googleドライブを一度だけマウントするのだ！ {\"run\":\"auto\"}\n",
    "#@markdown\n",
    "from google.colab import drive   #冒頭で行っておく\n",
    "drive.flush_and_unmount()\n",
    "\n",
    "\n",
    "#@markdown **Google Drive マウントフォルダ**\n",
    "use_google_drive = True  # @param {\"type\":\"boolean\"}\n",
    "google_drive_mount_path = '/content/drive' # @param {\"type\":\"string\",\"placeholder\":\"/content/drive\"}\n",
    "\n",
    "\n",
    "if use_google_drive:\n",
    "    print(\"Google Drive を利用します\")\n",
    "    drive.mount(google_drive_mount_path, force_remount=True)\n",
    "else:\n",
    "    print(\"Google Drive を利用しません\")\n",
    "\n",
    "\n",
    "\n",
    "print(\"マウント処理終了\")\n",
    "\n"
   ]
  },
  {
   "cell_type": "code",
   "execution_count": 41,
   "metadata": {
    "cellView": "form",
    "executionInfo": {
     "elapsed": 28,
     "status": "ok",
     "timestamp": 1748085096214,
     "user": {
      "displayName": "Catnip G",
      "userId": "16819919414081076636"
     },
     "user_tz": -540
    },
    "id": "V8-ziIeGTe9L"
   },
   "outputs": [],
   "source": [
    "# @title 内部処理：入力ファイル読み込み\n",
    "def read_image_from_filepath(filepath :str=\"\"):\n",
    "    \"\"\"\n",
    "    指定されたファイルパスの画像をPIL.Imageオブジェクトとして読み込む関数。\n",
    "\n",
    "    Args:\n",
    "        filepath (str): 読み込む画像のファイルパス。\n",
    "\n",
    "    Returns:\n",
    "        PIL.Image.Image or None: 読み込まれたPIL Imageオブジェクト、\n",
    "                                  またはファイルの読み込みに失敗した場合はNone。\n",
    "    \"\"\"\n",
    "    if not os.path.exists(filepath):\n",
    "        print(f\"エラー: ファイル '{filepath}' が見つかりません。\")\n",
    "        return None\n",
    "\n",
    "    try:\n",
    "        image = IPyImage(filepath)\n",
    "\n",
    "        print(f\"ファイル '{filepath}' から画像を読み込みました。\")\n",
    "        return image\n",
    "    except Exception as e:\n",
    "        print(f\"ファイル '{filepath}' の読み込みに失敗しました: {e}\")\n",
    "        return None\n",
    "\n",
    "\n",
    "def upload_file() -> IPyImage:\n",
    "    uploaded = files.upload()\n",
    "\n",
    "    #アップロードされたファイルを確認\n",
    "    if len(uploaded) == 0:\n",
    "        print(\"ファイルがアップロードされませんでした。\")\n",
    "    else:\n",
    "        # アップロードされた最初のファイルの名前を取得\n",
    "        # もし複数のファイルをアップロードした場合、ここを修正して選択できるようにできます\n",
    "        uploaded_file_name = next(iter(uploaded))\n",
    "        print(f\"アップロードされたファイル: {uploaded_file_name}\")\n",
    "        image = read_image_from_filepath(uploaded_file_name)\n",
    "        return image\n",
    "\n",
    "\n",
    "def upload_file_and_display() -> str | None:\n",
    "    uploaded = files.upload()\n",
    "\n",
    "    #アップロードされたファイルを確認\n",
    "    if len(uploaded) == 0:\n",
    "        print(\"ファイルがアップロードされませんでした。\")\n",
    "\n",
    "        return None\n",
    "    else:\n",
    "        # アップロードされた最初のファイルの名前を取得\n",
    "        # もし複数のファイルをアップロードした場合、ここを修正して選択できるようにできます\n",
    "        uploaded_file_name = next(iter(uploaded))\n",
    "        print(f\"アップロードされたファイル: {uploaded_file_name}\")\n",
    "        image = read_image_from_filepath(uploaded_file_name)\n",
    "\n",
    "        if image is None:\n",
    "            print(\"画像の読み込みに失敗しました。\")\n",
    "        else:\n",
    "            print(\"画像が利用可能です。\")\n",
    "            display(IPyImage(filename=uploaded_file_name, width=400))\n",
    "\n",
    "        return uploaded_file_name\n",
    "\n",
    "\n",
    "\n"
   ]
  },
  {
   "cell_type": "code",
   "execution_count": 42,
   "metadata": {
    "cellView": "form",
    "executionInfo": {
     "elapsed": 2,
     "status": "ok",
     "timestamp": 1748085098278,
     "user": {
      "displayName": "Catnip G",
      "userId": "16819919414081076636"
     },
     "user_tz": -540
    },
    "id": "_1YNwYJYt-vR"
   },
   "outputs": [],
   "source": [
    "# @title 内部処理：ユニークなファイル名を生成\n",
    "\n",
    "def generate_unique_filename(output_path: str, total_count: int = 1, current_index: int = 1) -> str:\n",
    "    \"\"\"\n",
    "    指定された出力パスと生成数に基づき、重複しないタイムスタンプベースのファイル名を生成します。\n",
    "\n",
    "    動作仕様:\n",
    "    1. 現在のタイムスタンプ (YYYY-MMDD-HHMM-SS 形式) をベース名とします。\n",
    "    2. total_count が 1 より大きい場合、ファイル名に連番と総数 (`_NNofMM`) を追加します。\n",
    "    3. 生成されたファイル名 (`.png` および `.json` 拡張子を含む) が output_path に既に存在するかを確認します。\n",
    "    4. 同名のファイルが存在する場合、ファイル名の末尾に連番サフィックス (`_suffix`) を追加して一意性を確保します。\n",
    "    5. 最終的に一意性が確認されたファイル名 (拡張子なし) を返します。\n",
    "\n",
    "    Args:\n",
    "        output_path (str): ファイルを保存するディレクトリのパス。\n",
    "        total_count (int): 生成されるファイルの総数 (デフォルトは1)。\n",
    "        current_index (int): 現在生成中のファイルのインデックス (1からtotal_countまで、デフォルトは1)。\n",
    "\n",
    "    Returns:\n",
    "        str: 拡張子を含まない、生成されたユニークなファイル名。\n",
    "    \"\"\"\n",
    "    timestamp = datetime.datetime.now().strftime('%Y-%m%d-%H%M-%S')\n",
    "    base_filename = timestamp\n",
    "\n",
    "    # n が 1 以外の場合は連番を追加\n",
    "    if total_count > 1:\n",
    "        filename = f\"{base_filename}_{current_index:02d}of{total_count:02d}\"\n",
    "    else:\n",
    "        filename = base_filename\n",
    "\n",
    "    img_path = os.path.join(output_path, f\"{filename}.png\")\n",
    "    json_path = os.path.join(output_path, f\"{filename}.json\")\n",
    "\n",
    "#　同名のファイルチェック\n",
    "    index = 0\n",
    "    while os.path.exists(img_path) or os.path.exists(json_path):\n",
    "        index += 1\n",
    "        # 連番サフィックス付きのファイル名を生成\n",
    "        filename = f\"{base_filename}_{current_index:02d}of{total_count:02d}_{index}\" if total_count > 1 else f\"{base_filename}_{index}\"\n",
    "        img_path = os.path.join(output_path, f\"{filename}.png\")\n",
    "        json_path = os.path.join(output_path, f\"{filename}.json\")\n",
    "\n",
    "    return filename"
   ]
  },
  {
   "cell_type": "code",
   "execution_count": 43,
   "metadata": {
    "cellView": "form",
    "executionInfo": {
     "elapsed": 22,
     "status": "ok",
     "timestamp": 1748085101398,
     "user": {
      "displayName": "Catnip G",
      "userId": "16819919414081076636"
     },
     "user_tz": -540
    },
    "id": "YGsJP3FGwnW5"
   },
   "outputs": [],
   "source": [
    "# @title 内部処理：Create Image Edit\n",
    "def create_image_edit_from_openai(input_image_paths: list[str], output_base_path: str,**kwargs) -> str | None:\n",
    "    \"\"\"\n",
    "    OpenAI Image Edit API を利用して画像を生成し、指定されたパスに保存します。\n",
    "    生成された画像はColabの出力セルに表示されます。\n",
    "\n",
    "    動作仕様:\n",
    "    1. input_image_paths で指定された複数のオリジナル画像ファイルを開きます。\n",
    "    2. 提供されたプロンプトと画像編集パラメータ (`model`, `size`, `quality`, `n`) を使用して、\n",
    "       OpenAI Image Edit API (`client.images.edit`) を呼び出します。\n",
    "       必要に応じてマスク画像も使用できます（現在のコードでは original_image_path のみを使用）。\n",
    "       （補足：マスク画像を使用する場合、API呼び出し時の kwargs に mask パラメータを追加する必要があります。）\n",
    "    3. APIからのレスポンスに含まれる各生成画像データ (Base64形式) をデコードします。\n",
    "    4. デコードされた画像データを `IPython.display.Image` を用いてColabの出力セルに表示します。\n",
    "    5. 生成された各画像に対し、generate_unique_filename 関数を使用して一意なファイル名を生成します。\n",
    "    6. 生成された画像 (PNG形式) と、使用した生成パラメータを含むJSONファイルを output_base_path ディレクトリに保存します。\n",
    "    7. API呼び出しまたは処理中にエラーが発生した場合、エラーメッセージを出力し None を返します。\n",
    "    8. ファイルは自動的に閉じられます (with open 構文使用を推奨)。\n",
    "\n",
    "    Args:\n",
    "        input_image_paths (list[str]): 元となる画像ファイルのパスのリスト。OpenAI Image Edit API に渡されます。\n",
    "        output_base_path (str): 生成された画像とパラメータを保存するディレクトリのパス。\n",
    "        prompt (str): 画像編集のためのテキストプロンプト。\n",
    "\n",
    "    Returns:\n",
    "        str or None: 処理が成功した場合に保存された画像ファイルのフルパス（最初の画像など）、\n",
    "                     または生成に失敗した場合は None を返します。\n",
    "                     （現在の実装では常に None を返します。必要に応じて修正してください。）\n",
    "    \"\"\"\n",
    "    # 画像ファイルを開く (with構文で自動的に閉じられるように変更)\n",
    "    image_files = []\n",
    "    try:\n",
    "        for input_path in input_image_paths:\n",
    "            if os.path.exists(input_path):\n",
    "                image_files.append(open(input_path, \"rb\"))\n",
    "            else:\n",
    "                print(f\"エラー: 入力ファイル '{input_path}' が見つかりません。このファイルはスキップされます。\")\n",
    "\n",
    "        if not image_files:\n",
    "            print(\"エラー: 有効な入力画像ファイルが見つかりませんでした。\")\n",
    "            return None\n",
    "\n",
    "        kwargs[\"image\"] = image_files\n",
    "\n",
    "        if client is None:\n",
    "             print(\"エラー: OpenAIクライアントが初期化されていません。\")\n",
    "             return None\n",
    "\n",
    "        result = client.images.edit(**kwargs)\n",
    "\n",
    "        # レスポンスを確認して画像を表示・保存するのだ！\n",
    "        # result.data はリストなので、各要素を処理\n",
    "        for i, image_data in enumerate(result.data):\n",
    "            # 画像データのデコード\n",
    "            # Base64デコードに失敗する可能性も考慮してtry-exceptを追加\n",
    "            try:\n",
    "                image_bytes = base64.b64decode(image_data.b64_json)\n",
    "            except (base64.binascii.Error, AttributeError) as e:\n",
    "                 print(f\"エラー: 画像 {i + 1} のBase64デコードに失敗しました: {e}\")\n",
    "                 continue # 次の画像データに進む\n",
    "\n",
    "            # 画像を表示\n",
    "            print(f\"画像 {i + 1} が生成されたのだ！表示するのだ～！\")\n",
    "            # IPython.display.Image はバイトデータまたはファイルパスを受け取る\n",
    "            # インポート名を考慮して IPyImage に修正\n",
    "            display(IPyImage(data=image_bytes, width=400)) # IPython.display.Image は IPyImage と別名でインポートされている前提\n",
    "\n",
    "            # ユニークなファイル名を生成するのだ\n",
    "            # generate_unique_filename 関数は output_path, total_count, current_index を引数にとる\n",
    "            # img_count が画像を生成する数であると仮定し、それを total_count に渡す\n",
    "            filename = generate_unique_filename(output_base_path, total_count=img_count, current_index=i + 1)\n",
    "\n",
    "            img_file_path = os.path.join(output_base_path, f\"{filename}.png\")\n",
    "            json_file_path = os.path.join(output_base_path, f\"{filename}.json\")\n",
    "\n",
    "            # 画像ファイルを保存するのだ (with構文で自動的に閉じられるように変更)\n",
    "            try:\n",
    "                with open(img_file_path, 'wb') as img_file:\n",
    "                    img_file.write(image_bytes)\n",
    "            except IOError as e:\n",
    "                 print(f\"エラー: 画像ファイル '{img_file_path}' の保存に失敗しました: {e}\")\n",
    "                 # 保存に失敗しても処理を続けるか、ここで終了するかは仕様による\n",
    "                 continue # 今回は保存に失敗した画像はスキップ\n",
    "\n",
    "            # 生成パラメータをJSONファイルに保存するのだ (with構文で自動的に閉じられるように変更)\n",
    "            # APIレスポンスの usage を辞書に変換する処理が必要\n",
    "            # APIレスポンスの構造を確認し、必要な情報をparamsに格納\n",
    "            params = {\n",
    "                \"prompt\": prompt,\n",
    "                \"size\": img_size,\n",
    "                \"quality\": img_quality,\n",
    "                \"background\": img_background, # img_background_en が定義されていること\n",
    "                \"model\": \"gpt-image-1\", # 使用したモデル\n",
    "                \"generation_time\": datetime.datetime.now().isoformat(),\n",
    "                # usage 情報を含める場合は、APIレスポンスの result.usage を適切に処理して追加\n",
    "                # 例: if hasattr(result, 'usage') and result.usage: # usage属性が存在しNoneでないか確認\n",
    "                #         params[\"usage\"] = result.usage.__dict__\n",
    "            }\n",
    "\n",
    "            try:\n",
    "                with open(json_file_path, 'w', encoding='utf-8') as json_file:\n",
    "                    # JSONシリアライズできないオブジェクトが含まれていないか確認\n",
    "                    json.dump(params, json_file, ensure_ascii=False, indent=2)\n",
    "            except (IOError, TypeError) as e:\n",
    "                 print(f\"エラー: パラメータファイル '{json_file_path}' の保存に失敗しました: {e}\")\n",
    "                 # 保存に失敗しても処理を続けるか、ここで終了するかは仕様による\n",
    "                 pass # パラメータ保存失敗は致命的でないと仮定して続行\n",
    "\n",
    "            print(f\"画像を保存したのだ: {img_file_path}\")\n",
    "            print(f\"パラメータも保存したのだ: {json_file_path}\")\n",
    "\n",
    "    except Exception as e: # OpenAI API呼び出し自体で発生する可能性のあるエラーを含む広範な例外捕捉\n",
    "        # OpenAI APIからの特定のエラーを捕捉するとより良い\n",
    "        # 例: from openai import APIError\n",
    "        # except APIError as e:\n",
    "        #    print(f\"OpenAI APIエラー: {e.status_code} - {e.response}\")\n",
    "        # except Exception as e:\n",
    "        print(f\"画像生成処理中に予期せぬエラーが起きてしまいました: {e}\")\n",
    "        return None\n",
    "    finally:\n",
    "        # 開いたファイルをすべて閉じる\n",
    "        for f in image_files:\n",
    "            f.close()\n",
    "\n",
    "    # 関数が成功した場合の返り値をここで指定\n",
    "    # 例: return saved_img_path # 保存した最初の画像のパスなどを返す\n",
    "    return None # 現在の仕様では明示的な返り値は不要と仮定"
   ]
  },
  {
   "cell_type": "markdown",
   "metadata": {
    "id": "poPzZjUvbsIK"
   },
   "source": [
    "# 入力ファイル設定方法は\n",
    "下記の方法でファイル名指定できるように準備します。\n",
    "\n",
    "## - Google Driveにアップロードする。\n",
    "アップロードしてファイルパスを取得します。\n",
    "## - Colab 一時フォルダ (/content)へアップロードする。\n",
    "次のブロックでアップロードするか、Colobファイルウインドウの任意のフォルダへアップロードする。\n"
   ]
  },
  {
   "cell_type": "code",
   "execution_count": null,
   "metadata": {
    "cellView": "form",
    "id": "lyKLfqxTnDzs"
   },
   "outputs": [],
   "source": [
    "# @title #  準備： Colaboの一時フォルダ(/content)へアップロードする。\n",
    "#@markdown *Colab でアップロードするとカレントディレクトリである /content配下に作成されます。*\n",
    "#@markdown *複数のファイルがある場合はアップロードを繰り返してください。表示は上書きされますが、contentフォルダに残ります）\n",
    "\n",
    "tmp_colabo_uploaded_filename = upload_file_and_display();\n",
    "\n",
    "if tmp_colabo_uploaded_filename is None:\n",
    "    print(f\"画像の読み込みに失敗しました。:{tmp_colabo_uploaded_filename}\")\n",
    "else:\n",
    "    print(f\"画像のアップロードできました。ファイルパスを入力ファイル名に入力してください。\")\n",
    "    print(f\"{tmp_colabo_uploaded_filename}\")\n",
    "\n"
   ]
  },
  {
   "cell_type": "code",
   "execution_count": 152,
   "metadata": {
    "cellView": "form",
    "colab": {
     "base_uri": "https://localhost:8080/"
    },
    "executionInfo": {
     "elapsed": 34,
     "status": "ok",
     "timestamp": 1748086210623,
     "user": {
      "displayName": "Catnip G",
      "userId": "16819919414081076636"
     },
     "user_tz": -540
    },
    "id": "Bd1IEZL4VJKX",
    "outputId": "d92c8304-f0ee-4466-ef72-bfb3f3e94b9c"
   },
   "outputs": [
    {
     "name": "stdout",
     "output_type": "stream",
     "text": [
      "有効な入力ファイルが指定されました。\n"
     ]
    }
   ],
   "source": [
    "# @title #  ①入力ファイルの指定 {\"run\":\"auto\",\"vertical-output\":true}\n",
    "#@markdown ファイル名のみの場合はカレントディレクトリの **/content配下** のファイルが読まれます\n",
    "\n",
    "#@markdown **入力ファイル設定**\n",
    "\n",
    "input_filename_00 = \"/content/drive/MyDrive/Colab-Sample-Images/fruits/allec-gomes-xnRg3xDcNnE-unsplash.jpg\" # @param {\"type\":\"string\"}\n",
    "input_filename_01 = \"/content/drive/MyDrive/Colab-Sample-Images/fruits/bere-del-valle-3-AMvwRq7fY-unsplash.jpg\" # @param {\"type\":\"string\"}\n",
    "input_filename_02 = \"/content/drive/MyDrive/Colab-Sample-Images/fruits/debby-hudson-8iCWV_mNRhs-unsplash.jpg\" # @param {\"type\":\"string\"}\n",
    "input_filename_03 = \"/content/drive/MyDrive/Colab-Sample-Images/fruits/fernando-andrade-nAOZCYcLND8-unsplash.jpg\" # @param {\"type\":\"string\"}\n",
    "input_filename_04 = \"/content/drive/MyDrive/Colab-Sample-Images/fruits/mae-mu-U1iYwZ8Dx7k-unsplash.jpg\" # @param {\"type\":\"string\"}\n",
    "input_filename_05 = \"/content/drive/MyDrive/Colab-Sample-Images/fruits/mae-mu-vbAEHCrvXZ0-unsplash.jpg\" # @param {\"type\":\"string\"}\n",
    "input_filename_06 = \"/content/drive/MyDrive/Colab-Sample-Images/fruits/mockup-graphics-F-oW3L-L6rk-unsplash.jpg\" # @param {\"type\":\"string\"}\n",
    "input_filename_07 = \"/content/drive/MyDrive/Colab-Sample-Images/fruits/mockup-graphics-Kl3467edwsE-unsplash.jpg\" # @param {\"type\":\"string\"}\n",
    "input_filename_08 = \"/content/drive/MyDrive/Colab-Sample-Images/fruits/quaritsch-photography-3HhXWJzG5Ko-unsplash.jpg\" # @param {\"type\":\"string\"}\n",
    "# まだそんなに使わないが。。\n",
    "input_filename_09 = \"/content/drive/MyDrive/Colab-Sample-Images/fruits/mockup-graphics-haSJEJYzl5A-unsplash.jpg\" # @param {\"type\":\"string\"}\n",
    "input_filename_10 = \"/content/drive/MyDrive/Colab-Sample-Images/fruits/mockup-graphics-jHcKq383ibg-unsplash.jpg\" # @param {\"type\":\"string\"}\n",
    "input_filename_11 = \"/content/drive/MyDrive/Colab-Sample-Images/fruits/quaritsch-photography-3HhXWJzG5Ko-unsplash.jpg\" # @param {\"type\":\"string\"}\n",
    "input_filename_12 = \"\" # @param {\"type\":\"string\"}\n",
    "input_filename_13 = \"\" # @param {\"type\":\"string\"}\n",
    "input_filename_14 = \"\" # @param {\"type\":\"string\"}\n",
    "input_filename_15 = \"\" # @param {\"type\":\"string\"}\n",
    "\n",
    "\n",
    "# 入力ファイルパスをリストにまとめる\n",
    "input_filenames = [\n",
    "    input_filename_00, input_filename_01, input_filename_02, input_filename_03,\n",
    "    input_filename_04, input_filename_05, input_filename_06, input_filename_07,\n",
    "    input_filename_08, input_filename_09, input_filename_10, input_filename_11,\n",
    "    input_filename_12, input_filename_13, input_filename_14, input_filename_15\n",
    "]\n",
    "\n",
    "valid_input_filenames = []\n",
    "invalid_input_filenames = []\n",
    "\n",
    "# ファイルの存在チェックを行い、リストを分ける\n",
    "for filename in input_filenames:\n",
    "    if filename: # 空文字列でないことを確認\n",
    "        if os.path.exists(filename):\n",
    "            valid_input_filenames.append(filename)\n",
    "        else:\n",
    "            invalid_input_filenames.append(filename)\n",
    "\n",
    "# 存在しないファイルパスを出力\n",
    "if invalid_input_filenames:\n",
    "    print(\"以下の入力ファイルが見つかりませんでした:\")\n",
    "    for invalid_filename in invalid_input_filenames:\n",
    "        print(f\"- {invalid_filename}\")\n",
    "\n",
    "if not valid_input_filenames:\n",
    "    print(\"エラー: 有効な入力ファイルが指定されていません。存在する入力ファイルを指定してください。\")\n",
    "else:\n",
    "    print(\"有効な入力ファイルが指定されました。\")\n",
    "    # 後続の処理で valid_input_filenames を使用する\n",
    "    # 例: print(f\"有効な入力ファイルリスト: {valid_input_filenames}\")"
   ]
  },
  {
   "cell_type": "code",
   "execution_count": 155,
   "metadata": {
    "cellView": "form",
    "colab": {
     "base_uri": "https://localhost:8080/"
    },
    "executionInfo": {
     "elapsed": 33,
     "status": "ok",
     "timestamp": 1748086251835,
     "user": {
      "displayName": "Catnip G",
      "userId": "16819919414081076636"
     },
     "user_tz": -540
    },
    "id": "v1BJa1jEGx6R",
    "outputId": "4045268d-4bad-4bcd-9aa1-3a76fae6e84d"
   },
   "outputs": [
    {
     "name": "stdout",
     "output_type": "stream",
     "text": [
      "prompt : 入力画像のフルーツを籐のバスケットに入った画像,バスケットは明るいキッチンのテーブルの上に置かれている,絵画の様なアートスタイル,\n"
     ]
    }
   ],
   "source": [
    "# @title ②画像編集プロンプト {\"run\":\"auto\"}\n",
    "\n",
    "#@markdown *プロンプト情報 下記のプロンプトテキストはマージされます*\n",
    "prompt1 = \"入力画像のフルーツを籐のバスケットに入った画像\" # @param {type:\"string\"}\n",
    "prompt2 = \"バスケットは明るいキッチンのテーブルの上に置かれている\" # @param {type:\"string\"}\n",
    "prompt3 = \"絵画の様なアートスタイル\" # @param {type:\"string\"}\n",
    "prompt4 = \"\" # @param {type:\"string\"}\n",
    "\n",
    "img_size = '1024x1024' # @param [\"1024x1024\", \"1536x1024\", \"1024x1536\"]\n",
    "img_quality = 'high' # @param [\"high\", \"medium\",\"low\"]\n",
    "img_background = 'opaque' # @param [\"transparent\", \"opaque\"]\n",
    "\n",
    "#@markdown **プロンプト情報 下記のプロンプトテキストはマージされます**\n",
    "img_count = 4 # @param {\"type\":\"slider\",\"min\":1,\"max\":16,\"step\":1}\n",
    "\n",
    "\n",
    "#プロンプトを合成\n",
    "prompt = prompt1 +\",\"+ prompt2 +\",\"+ prompt3 +\",\" + prompt4\n",
    "\n",
    "print(f\"prompt : {prompt}\")"
   ]
  },
  {
   "cell_type": "code",
   "execution_count": 156,
   "metadata": {
    "cellView": "form",
    "colab": {
     "base_uri": "https://localhost:8080/",
     "height": 1000,
     "output_embedded_package_id": "1NhrNFDd98GHmk6qUzmH9Y4vfQEjboeM2"
    },
    "executionInfo": {
     "elapsed": 111639,
     "status": "ok",
     "timestamp": 1748086398046,
     "user": {
      "displayName": "Catnip G",
      "userId": "16819919414081076636"
     },
     "user_tz": -540
    },
    "id": "z_gKQuVr1zRK",
    "outputId": "2fc74dee-251c-42af-fe64-62edeff699c1"
   },
   "outputs": [
    {
     "data": {
      "text/plain": [
       "Output hidden; open in https://colab.research.google.com to view."
      ]
     },
     "metadata": {},
     "output_type": "display_data"
    }
   ],
   "source": [
    "# @title ③画像生成の実行\n",
    "\n",
    "\n",
    "#@markdown ---\n",
    "#@markdown **出力ファイル設定**\n",
    "output_fileio = \"Google Drive \" # @param [\"Google Drive \",\"Colab Temp File\"]\n",
    "\n",
    "output_googledrive_folderpath = '/content/drive/MyDrive/AI_Generated_Images' # @param {type:\"string\"}\n",
    "output_Colab_folderpath = '/content/temp_AI_Generated_Images' # @param {type:\"string\"}\n",
    "\n",
    "output_subfolder = \"fruits\" # @param {\"type\":\"string\"}\n",
    "\n",
    "\n",
    "# フォルダが無ければ作るよ\n",
    "os.makedirs(output_googledrive_folderpath , exist_ok=True)\n",
    "os.makedirs(output_Colab_folderpath , exist_ok=True)\n",
    "\n",
    "\n",
    "\n",
    "\n",
    "# フォルダパス処理\n",
    "# subfolder の先頭と末尾のスラッシュを削除\n",
    "cleaned_output_subfolder = output_subfolder.strip('/')\n",
    "\n",
    "#ファイルパスを合成\n",
    "if output_fileio == \"Colab Temp File\":\n",
    "    output_base_path = os.path.join(output_Colab_folderpath, cleaned_output_subfolder)\n",
    "else:\n",
    "    output_base_path = os.path.join(output_googledrive_folderpath, cleaned_output_subfolder)\n",
    "\n",
    "\n",
    "# フォルダが無ければ作るよ\n",
    "os.makedirs(output_base_path , exist_ok=True)\n",
    "\n",
    "kwargs = {\n",
    "    \"prompt\": prompt,\n",
    "    \"model\": \"gpt-image-1\",  # モデルを指定\n",
    "    \"size\": img_size,\n",
    "    \"quality\": img_quality,\n",
    "    \"background\":img_background,\n",
    "    \"n\": img_count,\n",
    "}\n",
    "\n",
    "print(f\"output_base_path = :{output_base_path}\")\n",
    "\n",
    "# Image Edit ファイルリスト等を渡す\n",
    "create_image_edit_from_openai(valid_input_filenames,output_base_path,**kwargs)\n",
    "\n",
    "print(\"画像生成が完了しました。\")\n"
   ]
  },
  {
   "cell_type": "markdown",
   "metadata": {
    "id": "evgZNa4SHG4f"
   },
   "source": [
    "# Gemini向け資料\n",
    "## OpenAI Image Edit API - Request Body\n",
    "\n",
    "このエンドポイントは、1つ以上のソース画像とプロンプトに基づいて、編集または拡張された画像を作成します。gpt-image-1とdall-e-2のみをサポートしています。\n",
    "\n",
    "### パラメータ\n",
    "\n",
    "| パラメータ | タイプ | 説明 | 必須 |\n",
    "|---|---|---|---|\n",
    "| `image` | string or array | 編集する画像。サポートされている画像ファイルまたは画像の配列である必要があります。gpt-image-1の場合、各画像は25MB未満のpng、webp、またはjpgファイルである必要があります。最大16枚の画像を提供できます。dall-e-2の場合、提供できる画像は1枚だけで、4MB未満の正方形のpngファイルである必要があります。 | **必須** |\n",
    "| `prompt` | string | 目的の画像のテキストによる説明。dall-e-2の最大長は1000文字、gpt-image-1の最大長は32000文字です。 | **必須** |\n",
    "| `background` | string or null | 生成される画像の背景の透明度を設定できます。このパラメータは、gpt-image-1でのみサポートされています。transparent、opaque、またはauto（デフォルト値）のいずれかである必要があります。autoを使用すると、モデルは画像に最適な背景を自動的に決定します。transparentの場合、出力形式は透明度をサポートする必要があるため、png（デフォルト値）またはwebpに設定する必要があります。 | オプション |\n",
    "| `mask` | file | imageが編集される場所を示す、完全に透明な領域（アルファがゼロの場所など）を持つ追加の画像。複数の画像が提供されている場合、マスクは最初の画像に適用されます。有効なPNGファイルで、4MB未満で、imageと同じ寸法である必要があります。 | オプション |\n",
    "| `model` | string | 画像生成に使用するモデル。dall-e-2とgpt-image-1のみがサポートされています。gpt-image-1に固有のパラメータが使用されない限り、デフォルトはdall-e-2です。 | オプション |\n",
    "| `n` | integer or null | 生成する画像の数。1から10の間である必要があります。 | オプション |\n",
    "| `quality` | string or null | 生成される画像の品質。high、medium、lowはgpt-image-1でのみサポートされています。dall-e-2は標準品質のみをサポートしています。デフォルトはautoです。 | オプション |\n",
    "| `response_format` | string or null | 生成された画像が返される形式。urlまたはb64_jsonのいずれかである必要があります。URLは、画像が生成されてから60分間のみ有効です。gpt-image-1は常にbase64エンコードされた画像を返すため、このパラメータはdall-e-2でのみサポートされています。 | オプション |\n",
    "| `size` | string or null | 生成される画像のサイズ。gpt-image-1の場合は1024x1024、1536x1024（横長）、1024x1536（縦長）、またはauto（デフォルト値）のいずれか、dall-e-2の場合は256x256、512x512、または1024x1024のいずれかである必要があります。 | オプション |\n",
    "| `user` | string | エンドユーザーを表す一意の識別子。OpenAIが不正使用を監視および検出するのに役立ちます。 | オプション |\n",
    "\n",
    "\n",
    "### 戻り値\n",
    "\n",
    "画像オブジェクトのリストを返します。"
   ]
  },
  {
   "cell_type": "markdown",
   "metadata": {
    "id": "A2Zcmoz4LeOB"
   },
   "source": [
    "Open AI Create Image Edit Example\n",
    "\n",
    "# Example request\n",
    "```\n",
    "# これはコードとして書式設定されます\n",
    "import base64\n",
    "from openai import OpenAI\n",
    "client = OpenAI()\n",
    "\n",
    "prompt = \"\"\"\n",
    "Generate a photorealistic image of a gift basket on a white background\n",
    "labeled 'Relax & Unwind' with a ribbon and handwriting-like font,\n",
    "containing all the items in the reference pictures.\n",
    "\"\"\"\n",
    "\n",
    "result = client.images.edit(\n",
    "    model=\"gpt-image-1\",\n",
    "    image=[\n",
    "        open(\"body-lotion.png\", \"rb\"),\n",
    "        open(\"bath-bomb.png\", \"rb\"),\n",
    "        open(\"incense-kit.png\", \"rb\"),\n",
    "        open(\"soap.png\", \"rb\"),\n",
    "    ],\n",
    "    prompt=prompt\n",
    ")\n",
    "\n",
    "image_base64 = result.data[0].b64_json\n",
    "image_bytes = base64.b64decode(image_base64)\n",
    "\n",
    "# Save the image to a file\n",
    "with open(\"gift-basket.png\", \"wb\") as f:\n",
    "    f.write(image_bytes)\n",
    "\n",
    "```\n",
    "\n",
    "# Response\n",
    "```\n",
    "{\n",
    "  \"created\": 1713833628,\n",
    "  \"data\": [\n",
    "    {\n",
    "      \"b64_json\": \"...\"\n",
    "    }\n",
    "  ],\n",
    "  \"usage\": {\n",
    "    \"total_tokens\": 100,\n",
    "    \"input_tokens\": 50,\n",
    "    \"output_tokens\": 50,\n",
    "    \"input_tokens_details\": {\n",
    "      \"text_tokens\": 10,\n",
    "      \"image_tokens\": 40\n",
    "    }\n",
    "  }\n",
    "}\n",
    "```\n"
   ]
  }
 ],
 "metadata": {
  "colab": {
   "authorship_tag": "ABX9TyOMp53b4TbuwIphOO3xQ/pw",
   "provenance": []
  },
  "kernelspec": {
   "display_name": "Python 3",
   "name": "python3"
  },
  "language_info": {
   "name": "python"
  }
 },
 "nbformat": 4,
 "nbformat_minor": 0
}
