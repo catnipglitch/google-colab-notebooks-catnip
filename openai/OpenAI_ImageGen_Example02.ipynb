{
 "cells": [
  {
   "cell_type": "markdown",
   "metadata": {
    "id": "view-in-github"
   },
   "source": [
    "<a href=\"https://colab.research.google.com/github/catnipglitch/google-colab-notebooks-catnip/blob/main/openai/OpenAI_ImageGen_Example02.ipynb\" target=\"_parent\"><img src=\"https://colab.research.google.com/assets/colab-badge.svg\" alt=\"Open In Colab\"/></a>"
   ]
  },
  {
   "cell_type": "markdown",
   "metadata": {
    "id": "iS4yLAbC7iRT"
   },
   "source": [
    "# このノートブックでは、OpenAIのGPT-Image-1モデルを使って、テキストからイラストを生成できます。\n",
    "\n"
   ]
  },
  {
   "cell_type": "markdown",
   "metadata": {
    "id": "6rjtUKhRXoOm"
   },
   "source": [
    "\n",
    "このノートブックでは、OpenAIのGPT-Image-1モデルを使って、日本語で記述したプロンプトからイラストを生成できます。\n",
    "生成された画像は、Google Driveに保存されます。\n",
    "\n",
    "## 準備:\n",
    "\n",
    "### OpenAI APIキーの設定:\n",
    "まず、OpenAIのウェブサイトでAPIキーを取得してください。\n",
    "取得したAPIキーを、Google Colabのユーザーデータに `OPENAI_API_KEY` という名前で保存します。\n",
    "\n",
    "### Google Driveのマウント:\n",
    "ノートブックを実行すると、Google Driveが自動的にマウントされます。\n",
    "生成された画像は、`AI_Generated_Images` というフォルダに保存されます。\n",
    "フォルダが存在しない場合は、自動的に作成されます。\n",
    "\n",
    "## プロンプトのカスタマイズ:\n",
    "\n",
    "### プロンプト:\n",
    "ノートブック内の `prompt` 変数に、生成したいイラストの詳細な説明を日本語で記述してください。\n",
    "プロンプトを具体的に記述することで、よりイメージに近いイラストが生成されます。\n",
    "例えば、キャラクターの服装、髪型、表情、背景などを細かく指定できます。\n",
    "\n",
    "### 画像設定の変更:\n",
    "`img_size`, `img_quality`, `img_background` 変数で、画像のサイズ、品質、背景を変更できます。\n",
    "必要に応じて、これらの変数の値を調整してください。\n",
    "\n",
    "## 実行:\n",
    "\n",
    "上記の設定が完了したら、ノートブックのセルを順番に実行してください。\n",
    "しばらくすると、生成されたイラストが表示されます。\n",
    "画像と生成に使用したプロンプト、パラメータは、Google Driveの`AI_Generated_Images`フォルダに保存されます。\n",
    "\n",
    "## 注意事項:\n",
    "\n",
    "* OpenAI APIの利用には料金が発生します。\n",
    "* プロンプトの内容によっては、意図したイラストが生成されない場合があります。\n",
    "* より詳細な設定や使い方については、OpenAIのドキュメントを参照してください。"
   ]
  },
  {
   "cell_type": "code",
   "execution_count": null,
   "metadata": {
    "colab": {
     "base_uri": "https://localhost:8080/"
    },
    "executionInfo": {
     "elapsed": 9633,
     "status": "ok",
     "timestamp": 1747569383483,
     "user": {
      "displayName": "Catnip G",
      "userId": "16819919414081076636"
     },
     "user_tz": -540
    },
    "id": "oShU3-brpCKw",
    "outputId": "04eeadc5-af5a-43e1-f2c2-9fafd4a680b5"
   },
   "outputs": [
    {
     "name": "stdout",
     "output_type": "stream",
     "text": [
      "Requirement already satisfied: openai in /usr/local/lib/python3.11/dist-packages (1.78.1)\n",
      "Requirement already satisfied: anyio<5,>=3.5.0 in /usr/local/lib/python3.11/dist-packages (from openai) (4.9.0)\n",
      "Requirement already satisfied: distro<2,>=1.7.0 in /usr/local/lib/python3.11/dist-packages (from openai) (1.9.0)\n",
      "Requirement already satisfied: httpx<1,>=0.23.0 in /usr/local/lib/python3.11/dist-packages (from openai) (0.28.1)\n",
      "Requirement already satisfied: jiter<1,>=0.4.0 in /usr/local/lib/python3.11/dist-packages (from openai) (0.9.0)\n",
      "Requirement already satisfied: pydantic<3,>=1.9.0 in /usr/local/lib/python3.11/dist-packages (from openai) (2.11.4)\n",
      "Requirement already satisfied: sniffio in /usr/local/lib/python3.11/dist-packages (from openai) (1.3.1)\n",
      "Requirement already satisfied: tqdm>4 in /usr/local/lib/python3.11/dist-packages (from openai) (4.67.1)\n",
      "Requirement already satisfied: typing-extensions<5,>=4.11 in /usr/local/lib/python3.11/dist-packages (from openai) (4.13.2)\n",
      "Requirement already satisfied: idna>=2.8 in /usr/local/lib/python3.11/dist-packages (from anyio<5,>=3.5.0->openai) (3.10)\n",
      "Requirement already satisfied: certifi in /usr/local/lib/python3.11/dist-packages (from httpx<1,>=0.23.0->openai) (2025.4.26)\n",
      "Requirement already satisfied: httpcore==1.* in /usr/local/lib/python3.11/dist-packages (from httpx<1,>=0.23.0->openai) (1.0.9)\n",
      "Requirement already satisfied: h11>=0.16 in /usr/local/lib/python3.11/dist-packages (from httpcore==1.*->httpx<1,>=0.23.0->openai) (0.16.0)\n",
      "Requirement already satisfied: annotated-types>=0.6.0 in /usr/local/lib/python3.11/dist-packages (from pydantic<3,>=1.9.0->openai) (0.7.0)\n",
      "Requirement already satisfied: pydantic-core==2.33.2 in /usr/local/lib/python3.11/dist-packages (from pydantic<3,>=1.9.0->openai) (2.33.2)\n",
      "Requirement already satisfied: typing-inspection>=0.4.0 in /usr/local/lib/python3.11/dist-packages (from pydantic<3,>=1.9.0->openai) (0.4.0)\n"
     ]
    }
   ],
   "source": [
    "!pip install openai"
   ]
  },
  {
   "cell_type": "code",
   "execution_count": null,
   "metadata": {
    "colab": {
     "base_uri": "https://localhost:8080/"
    },
    "executionInfo": {
     "elapsed": 21706,
     "status": "ok",
     "timestamp": 1747569405206,
     "user": {
      "displayName": "Catnip G",
      "userId": "16819919414081076636"
     },
     "user_tz": -540
    },
    "id": "2z6A7Vy8oRns",
    "outputId": "5cb74580-54a2-4b6b-fa59-94c5a7cb4480"
   },
   "outputs": [
    {
     "name": "stdout",
     "output_type": "stream",
     "text": [
      "Mounted at /content/drive\n"
     ]
    }
   ],
   "source": [
    "# @title 初期化 {\"run\":\"auto\"}\n",
    "import os\n",
    "import base64\n",
    "import json\n",
    "import datetime\n",
    "from pathlib import Path\n",
    "from openai import OpenAI\n",
    "from google.colab import userdata, drive\n",
    "from IPython.display import Image, display\n",
    "\n",
    "# Googleドライブを一度だけマウントするのだ！\n",
    "drive.mount('/content/drive')\n",
    "\n",
    "# 保存先のディレクトリを設定するのだ\n",
    "ROOT_DIR = '/content/drive/MyDrive/AI_Generated_Images'  # @param {\"type\":\"string\"}\n",
    "os.makedirs(ROOT_DIR, exist_ok=True)\n",
    "\n",
    "# API接続の準備をするのだ\n",
    "client = OpenAI(api_key=userdata.get('OPENAI_API_KEY'))\n"
   ]
  },
  {
   "cell_type": "code",
   "execution_count": null,
   "metadata": {
    "colab": {
     "base_uri": "https://localhost:8080/"
    },
    "executionInfo": {
     "elapsed": 8,
     "status": "ok",
     "timestamp": 1747569592463,
     "user": {
      "displayName": "Catnip G",
      "userId": "16819919414081076636"
     },
     "user_tz": -540
    },
    "id": "Az8wngssK4UH",
    "outputId": "2403025f-1afe-4fd5-84d8-4761738ada23"
   },
   "outputs": [
    {
     "name": "stdout",
     "output_type": "stream",
     "text": [
      "output folder : /content/drive/MyDrive/AI_Generated_Images/buta\n"
     ]
    }
   ],
   "source": [
    "# @title 画像生成プロンプト {\"run\":\"auto\",\"vertical-output\":true}\n",
    "\n",
    "custom_dir_name = \"buta\" # @param {\"type\":\"string\"}\n",
    "prompt = \"Hi, can create a 3d rendered image of a pig with wings and a top hat flying over a happy futuristic scifi city with lots of greenery?\" # @param {type:\"string\"}\n",
    "img_size = '1024x1024' # @param [\"1024x1024\", \"1536x1024\", \"1024x1536\"]\n",
    "img_quality = 'high' # @param [\"high\", \"medium\",\"low\"]\n",
    "img_background_jp = '不透明' # @param [\"不透明\", \"透明\"]\n",
    "#img_background = 'opaque' # @param [\"transparent\", \"opaque\"]\n",
    "\n",
    "img_count = 1 # @param {type:\"integer\"}\n",
    "\n",
    "\n",
    "# 日本語の選択肢と英語のキーワードを対応付ける辞書\n",
    "image_background_options_dic = {\n",
    "    \"透明\": \"transparent\",\n",
    "    \"不透明\": \"opaque\"\n",
    "}\n",
    "# 辞書を使って英語のキーワードに変換\n",
    "img_background_en = image_background_options_dic.get(img_background_jp, \"opaque\")\n",
    "\n",
    "\n",
    "\n",
    "# 保存先のディレクトリを再設定するのだ\n",
    "SAVE_DIR = ROOT_DIR+\"/\"+custom_dir_name\n",
    "os.makedirs(SAVE_DIR, exist_ok=True)\n",
    "\n",
    "print(f\"output folder : { SAVE_DIR}\")\n",
    "\n",
    "\n"
   ]
  },
  {
   "cell_type": "code",
   "execution_count": null,
   "metadata": {
    "id": "Pw65kWTqvmfd"
   },
   "outputs": [],
   "source": [
    "# @title ユニークなファイル名を生成\n",
    "\n",
    "def generate_unique_filename(total_count=1, current_index=1) -> str:\n",
    "    \"\"\"重複しないタイムスタンプベースのファイル名を生成するのだ\"\"\"\n",
    "    timestamp = datetime.datetime.now().strftime('%Y-%m%d-%H%M-%S')\n",
    "    base_filename = timestamp\n",
    "\n",
    "    # n が 1 以外の場合は連番を追加\n",
    "    if total_count > 1:\n",
    "        filename = f\"{base_filename}_{current_index:02d}of{total_count:02d}\"\n",
    "    else:\n",
    "        filename = base_filename\n",
    "\n",
    "    img_path = os.path.join(SAVE_DIR, f\"{filename}.png\")\n",
    "    json_path = os.path.join(SAVE_DIR, f\"{filename}.json\")\n",
    "\n",
    "#　同名のファイルチェック\n",
    "    index = 0\n",
    "    while os.path.exists(img_path) or os.path.exists(json_path):\n",
    "        index += 1\n",
    "        filename = f\"{base_filename}_{current_index:02d}of{total_count:02d}_{index}\"\n",
    "        img_path = os.path.join(SAVE_DIR, f\"{filename}.png\")\n",
    "        json_path = os.path.join(SAVE_DIR, f\"{filename}.json\")\n",
    "\n",
    "    return filename"
   ]
  },
  {
   "cell_type": "markdown",
   "metadata": {
    "id": "AhsyqoxLRSXG"
   },
   "source": []
  },
  {
   "cell_type": "code",
   "execution_count": null,
   "metadata": {
    "colab": {
     "base_uri": "https://localhost:8080/",
     "height": 469,
     "output_embedded_package_id": "1Pfw77b2Sa03tU5y1HiPTd7f1-vv3bs50"
    },
    "executionInfo": {
     "elapsed": 46120,
     "status": "ok",
     "timestamp": 1747569641235,
     "user": {
      "displayName": "Catnip G",
      "userId": "16819919414081076636"
     },
     "user_tz": -540
    },
    "id": "O-Uhr_MJpAZa",
    "outputId": "c04e6dcb-9d41-4231-8dd7-974148212d86"
   },
   "outputs": [
    {
     "data": {
      "text/plain": [
       "Output hidden; open in https://colab.research.google.com to view."
      ]
     },
     "metadata": {},
     "output_type": "display_data"
    }
   ],
   "source": [
    "# @title 画像の生成\n",
    "\n",
    "\n",
    "\n",
    "try:\n",
    "    # GPT-Image-1で画像生成を試すのだ！\n",
    "    response = client.images.generate(\n",
    "        model=\"gpt-image-1\",\n",
    "        prompt=prompt,\n",
    "        n=img_count,\n",
    "        size=img_size,\n",
    "        background=img_background_en,\n",
    "        quality=img_quality\n",
    "    )\n",
    "\n",
    "    # レスポンスを確認して画像を表示するのだ！\n",
    "    for i, image_data in enumerate(response.data):\n",
    "      image_bytes = base64.b64decode(image_data.b64_json)\n",
    "\n",
    "      # 画像を表示\n",
    "      print(f\"画像 {i + 1} が生成されたのだ！表示するのだ～！\")\n",
    "      display(Image(data=image_bytes, width=400))\n",
    "\n",
    "      # ユニークなファイル名を生成するのだ\n",
    "      filename = generate_unique_filename(total_count=img_count, current_index=i + 1)\n",
    "\n",
    "      img_file_path = os.path.join(SAVE_DIR, f\"{filename}.png\")\n",
    "      json_file_path = os.path.join(SAVE_DIR, f\"{filename}.json\")\n",
    "\n",
    "      # 画像ファイルを保存するのだ\n",
    "      with open(img_file_path, 'wb') as img_file:\n",
    "          img_file.write(image_bytes)\n",
    "\n",
    "      # 生成パラメータをJSONファイルに保存するのだ\n",
    "      params = {\n",
    "          \"prompt\": prompt,\n",
    "          \"size\": img_size,\n",
    "          \"quality\": img_quality,\n",
    "          \"background\": img_background_en,\n",
    "          \"model\": \"gpt-image-1\",\n",
    "          \"generation_time\": datetime.datetime.now().isoformat(),\n",
    "      }\n",
    "\n",
    "      with open(json_file_path, 'w', encoding='utf-8') as json_file:\n",
    "          json.dump(params, json_file, ensure_ascii=False, indent=2)\n",
    "\n",
    "      print(f\"画像を保存したのだ: {img_file_path}\")\n",
    "      print(f\"パラメータも保存したのだ: {json_file_path}\")\n",
    "\n",
    "except Exception as e:\n",
    "    print(f\"画像生成でエラーが起きてしまったのだ: {e}\")"
   ]
  },
  {
   "cell_type": "markdown",
   "metadata": {
    "id": "r5nTi8JsTgbS"
   },
   "source": []
  }
 ],
 "metadata": {
  "colab": {
   "provenance": []
  },
  "kernelspec": {
   "display_name": "Python 3",
   "name": "python3"
  },
  "language_info": {
   "name": "python"
  }
 },
 "nbformat": 4,
 "nbformat_minor": 0
}
