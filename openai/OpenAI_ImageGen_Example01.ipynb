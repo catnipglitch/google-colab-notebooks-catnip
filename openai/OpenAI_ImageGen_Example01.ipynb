{
 "cells": [
  {
   "cell_type": "markdown",
   "metadata": {
    "id": "view-in-github"
   },
   "source": [
    "<a href=\"https://colab.research.google.com/github/catnipglitch/google-colab-notebooks-catnip/blob/main/openai/OpenAI_ImageGen_Example01.ipynb\" target=\"_parent\"><img src=\"https://colab.research.google.com/assets/colab-badge.svg\" alt=\"Open In Colab\"/></a>"
   ]
  },
  {
   "cell_type": "markdown",
   "metadata": {
    "id": "6rjtUKhRXoOm"
   },
   "source": [
    "このノートブックでは、OpenAIのGPT-Image-1モデルを使って、日本語で記述したプロンプトからイラストを生成できます。\n",
    "\n",
    "# 準備:\n",
    "\n",
    "OpenAI APIキーの設定:\n",
    "まず、OpenAIのウェブサイトでAPIキーを取得してください。\n",
    "取得したAPIキーを、Google Colabのユーザーデータに OPENAI_API_KEY という名前で保存します。\n",
    "\n",
    "# プロンプトのカスタマイズ:\n",
    "\n",
    "ノートブック内の prompt 変数に、生成したいイラストの詳細な説明を日本語で記述してください。\n",
    "プロンプトを具体的に記述することで、よりイメージに近いイラストが生成されます。\n",
    "例えば、キャラクターの服装、髪型、表情、背景などを細かく指定できます。\n",
    "画像設定の変更:\n",
    "\n",
    "img_size, img_quality, img_background 変数で、画像のサイズ、品質、背景を変更できます。\n",
    "必要に応じて、これらの変数の値を調整してください。\n",
    "# 実行:\n",
    "\n",
    "上記の設定が完了したら、ノートブックのセルを順番に実行してください。\n",
    "しばらくすると、生成されたイラストが表示されます。\n",
    "# 注意事項:\n",
    "\n",
    "OpenAI APIの利用には料金が発生します。。\n",
    "プロンプトの内容によっては、意図したイラストが生成されない場合があります。\n",
    "より詳細な設定や使い方については、OpenAIのドキュメントを参照してください。\n"
   ]
  },
  {
   "cell_type": "code",
   "execution_count": 1,
   "metadata": {
    "colab": {
     "base_uri": "https://localhost:8080/"
    },
    "executionInfo": {
     "elapsed": 11889,
     "status": "ok",
     "timestamp": 1747572410980,
     "user": {
      "displayName": "Catnip G",
      "userId": "16819919414081076636"
     },
     "user_tz": -540
    },
    "id": "oShU3-brpCKw",
    "outputId": "a98f27ef-dd04-40a1-cb07-4e2a25c4fe15"
   },
   "outputs": [
    {
     "name": "stdout",
     "output_type": "stream",
     "text": [
      "Requirement already satisfied: openai in /usr/local/lib/python3.11/dist-packages (1.61.1)\n",
      "Requirement already satisfied: anyio<5,>=3.5.0 in /usr/local/lib/python3.11/dist-packages (from openai) (3.7.1)\n",
      "Requirement already satisfied: distro<2,>=1.7.0 in /usr/local/lib/python3.11/dist-packages (from openai) (1.9.0)\n",
      "Requirement already satisfied: httpx<1,>=0.23.0 in /usr/local/lib/python3.11/dist-packages (from openai) (0.28.1)\n",
      "Requirement already satisfied: jiter<1,>=0.4.0 in /usr/local/lib/python3.11/dist-packages (from openai) (0.8.2)\n",
      "Requirement already satisfied: pydantic<3,>=1.9.0 in /usr/local/lib/python3.11/dist-packages (from openai) (2.10.6)\n",
      "Requirement already satisfied: sniffio in /usr/local/lib/python3.11/dist-packages (from openai) (1.3.1)\n",
      "Requirement already satisfied: tqdm>4 in /usr/local/lib/python3.11/dist-packages (from openai) (4.67.1)\n",
      "Requirement already satisfied: typing-extensions<5,>=4.11 in /usr/local/lib/python3.11/dist-packages (from openai) (4.12.2)\n",
      "Requirement already satisfied: idna>=2.8 in /usr/local/lib/python3.11/dist-packages (from anyio<5,>=3.5.0->openai) (3.10)\n",
      "Requirement already satisfied: certifi in /usr/local/lib/python3.11/dist-packages (from httpx<1,>=0.23.0->openai) (2025.1.31)\n",
      "Requirement already satisfied: httpcore==1.* in /usr/local/lib/python3.11/dist-packages (from httpx<1,>=0.23.0->openai) (1.0.7)\n",
      "Requirement already satisfied: h11<0.15,>=0.13 in /usr/local/lib/python3.11/dist-packages (from httpcore==1.*->httpx<1,>=0.23.0->openai) (0.14.0)\n",
      "Requirement already satisfied: annotated-types>=0.6.0 in /usr/local/lib/python3.11/dist-packages (from pydantic<3,>=1.9.0->openai) (0.7.0)\n",
      "Requirement already satisfied: pydantic-core==2.27.2 in /usr/local/lib/python3.11/dist-packages (from pydantic<3,>=1.9.0->openai) (2.27.2)\n"
     ]
    }
   ],
   "source": [
    "!pip install openai"
   ]
  },
  {
   "cell_type": "code",
   "execution_count": 6,
   "metadata": {
    "colab": {
     "base_uri": "https://localhost:8080/"
    },
    "executionInfo": {
     "elapsed": 497,
     "status": "ok",
     "timestamp": 1747572883452,
     "user": {
      "displayName": "Catnip G",
      "userId": "16819919414081076636"
     },
     "user_tz": -540
    },
    "id": "2z6A7Vy8oRns",
    "outputId": "8e312f19-8927-42af-ed05-b17988a664dc"
   },
   "outputs": [
    {
     "name": "stdout",
     "output_type": "stream",
     "text": [
      "画像生成でエラーが起きてしまったのだ: Images.generate() got an unexpected keyword argument 'background'\n"
     ]
    }
   ],
   "source": [
    "import os\n",
    "import base64\n",
    "from openai import OpenAI\n",
    "from google.colab import userdata\n",
    "from IPython.display import Image, display\n",
    "\n",
    "# Google ColabでAPIキーを安全に取得するのだ！\n",
    "client = OpenAI(api_key=userdata.get('OPENAI_API_KEY'))\n",
    "\n",
    "prompt = \"Create an illustration in the style of Japanese anime, featuring two men sitting at a white round table. The man on the left, who has curly dark hair, a beard, and is wearing a red sweater, is using a laptop with a smiley face sticker and explaining something with a positive expression. The man on the right, who has short brown hair and is wearing a black button-down shirt, is listening attentively with a friendly and interested expression. On the table is also a bowl of salad. The background includes a window with a view of a city. Use bright and vibrant colors with sharp lines, typical of anime art style.\" # @param {type:\"string\"}\n",
    "img_size = '1024x1024' # @param [\"1024x1024\", \"1536x1024\", \"1024x1536\"]\n",
    "img_quality = 'high' # @param [\"high\", \"medium\",\"low\"]\n",
    "img_background = 'opaque' # @param [\"transparent\", \"opaque\"]\n",
    "\n",
    "\n",
    "\n",
    "try:\n",
    "  # GPT-Image-1で画像生成を試すのだ！\n",
    "  response = client.images.generate(\n",
    "    model=\"gpt-image-1\",\n",
    "    prompt=prompt,\n",
    "    n=1,\n",
    "    size=img_size,\n",
    "    background=img_background,\n",
    "    quality=img_quality\n",
    "  )\n",
    "\n",
    "  # レスポンスを確認して画像を表示するのだ！\n",
    "  image_data = response.data[0].b64_json\n",
    "  image_bytes = base64.b64decode(image_data)\n",
    "  print(\"画像が生成されたのだ！表示するのだ～！\")\n",
    "  display(Image(data=image_bytes))\n",
    "\n",
    "except Exception as e:\n",
    "  print(f\"画像生成でエラーが起きてしまったのだ: {e}\")"
   ]
  },
  {
   "cell_type": "code",
   "execution_count": 2,
   "metadata": {
    "executionInfo": {
     "elapsed": 14,
     "status": "ok",
     "timestamp": 1747572420608,
     "user": {
      "displayName": "Catnip G",
      "userId": "16819919414081076636"
     },
     "user_tz": -540
    },
    "id": "O-Uhr_MJpAZa"
   },
   "outputs": [],
   "source": []
  }
 ],
 "metadata": {
  "colab": {
   "provenance": []
  },
  "kernelspec": {
   "display_name": "Python 3",
   "name": "python3"
  },
  "language_info": {
   "name": "python"
  }
 },
 "nbformat": 4,
 "nbformat_minor": 0
}
